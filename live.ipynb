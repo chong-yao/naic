{
  "cells": [
    {
      "cell_type": "code",
      "execution_count": 1,
      "metadata": {
        "id": "NeFpCr0HIkzt"
      },
      "outputs": [],
      "source": [
        "# Ensure you have a CUDA-compatible version of PyTorch installed.\n",
        "!pip install -q ultralytics timm opencv-python Pillow"
      ]
    },
    {
      "cell_type": "markdown",
      "metadata": {
        "id": "FWRzu2GaK1p3"
      },
      "source": [
        "# Download model files"
      ]
    },
    {
      "cell_type": "markdown",
      "metadata": {
        "id": "ezrdTSBSK4tB"
      },
      "source": [
        "# Load CNN model (YOLO will auto-detect the GPU)"
      ]
    },
    {
      "cell_type": "code",
      "execution_count": 3,
      "metadata": {
        "id": "v9KGUYRtInXF"
      },
      "outputs": [],
      "source": [
        "from ultralytics import YOLO\n",
        "\n",
        "cnn = YOLO(\"models/cnn.pt\")"
      ]
    },
    {
      "cell_type": "markdown",
      "metadata": {
        "id": "Jy69EVJRlijd"
      },
      "source": [
        "# Load ViT model and move to GPU"
      ]
    },
    {
      "cell_type": "code",
      "execution_count": 4,
      "metadata": {
        "id": "uccgPddWlije"
      },
      "outputs": [],
      "source": [
        "import timm\n",
        "import torch\n",
        "\n",
        "# MODIFIED: Define the device to use (CUDA or CPU)\n",
        "device = torch.device('cuda' if torch.cuda.is_available() else 'cpu')\n",
        "print(f\"Using device: {device}\")\n",
        "\n",
        "# MODIFIED: Create the model and move it to the defined device\n",
        "vit = timm.create_model('eva02_base_patch14_224.mim_in22k', pretrained=False, num_classes=8).to(device)\n",
        "\n",
        "# MODIFIED: Load the model weights, mapping them to the same device\n",
        "vit.load_state_dict(torch.load(\"models/vit.pth\", map_location=device))\n",
        "\n",
        "# MODIFIED: Set to evaluation mode (no .cpu() needed)\n",
        "vit.eval()"
      ]
    },
    {
      "cell_type": "code",
      "execution_count": 5,
      "metadata": {
        "id": "6aed2csNlije"
      },
      "outputs": [],
      "source": [
        "from torchvision import transforms\n",
        "\n",
        "vit_transform = transforms.Compose([\n",
        "    transforms.Resize((224, 224)),\n",
        "    transforms.ToTensor(),\n",
        "    transforms.Normalize([0.5]*3, [0.5]*3)\n",
        "])"
      ]
    },
    {
      "cell_type": "markdown",
      "metadata": {
        "id": "4ARD7OneK7m-"
      },
      "source": [
        "# Load labels"
      ]
    },
    {
      "cell_type": "code",
      "execution_count": 6,
      "metadata": {
        "id": "4rxPynozK9bt"
      },
      "outputs": [],
      "source": [
        "with open('models/labels.txt') as f:\n",
        "    labels = {i: line.strip().split(' ', 1)[1] for i, line in enumerate(f)}\n",
        "\n",
        "print(labels)"
      ]
    },
    {
      "cell_type": "markdown",
      "metadata": {
        "id": "R4sL7oD6abcd"
      },
      "source": [
        "# NEW: Live Webcam Inference on GPU"
      ]
    },
    {
      "cell_type": "code",
      "execution_count": 7,
      "metadata": {},
      "outputs": [],
      "source": [
        "import cv2\n",
        "from PIL import Image\n",
        "import torch.nn.functional as F\n",
        "from collections import Counter\n",
        "import numpy as np\n",
        "\n",
        "num_classes = 8\n",
        "\n",
        "# Start webcam\n",
        "cap = cv2.VideoCapture(0)\n",
        "\n",
        "if not cap.isOpened():\n",
        "    print(\"Error: Could not open webcam.\")\n",
        "    exit()\n",
        "\n",
        "while True:\n",
        "    # Read a frame from the webcam\n",
        "    ret, frame = cap.read()\n",
        "    if not ret:\n",
        "        print(\"Error: Failed to capture frame.\")\n",
        "        break\n",
        "\n",
        "    # --- 1. CNN Prediction (on GPU) ---\n",
        "    # YOLO automatically uses the GPU if available\n",
        "    cnn_results = cnn(frame, verbose=False)\n",
        "    cnn_pred_classes = cnn_results[0].boxes.cls.tolist()\n",
        "\n",
        "    if len(cnn_pred_classes) > 0:\n",
        "        cnn_counts = Counter(cnn_pred_classes)\n",
        "        cnn_probs = [cnn_counts.get(i, 0) for i in range(num_classes)]\n",
        "        cnn_probs = [p / sum(cnn_probs) for p in cnn_probs]\n",
        "        cnn_predicted_class_idx = int(max(cnn_counts, key=cnn_counts.get))\n",
        "    else:\n",
        "        cnn_probs = [0.0] * num_classes\n",
        "        cnn_predicted_class_idx = -1\n",
        "\n",
        "    # --- 2. ViT Prediction (on GPU) ---\n",
        "    image_rgb = cv2.cvtColor(frame, cv2.COLOR_BGR2RGB)\n",
        "    pil_image = Image.fromarray(image_rgb)\n",
        "    \n",
        "    # MODIFIED: Move the input tensor to the same device as the model\n",
        "    input_tensor = vit_transform(pil_image).unsqueeze(0).to(device)\n",
        "\n",
        "    with torch.no_grad():\n",
        "        vit_logits = vit(input_tensor)\n",
        "    \n",
        "    # Probabilities can be moved to CPU for subsequent logic\n",
        "    vit_probs_tensor = F.softmax(vit_logits, dim=1).squeeze(0).cpu()\n",
        "    vit_probs = vit_probs_tensor.tolist()\n",
        "    vit_predicted_class_idx = int(torch.argmax(vit_probs_tensor).item())\n",
        "\n",
        "    # --- 3. Combine Predictions (Ensemble) ---\n",
        "    final_probs = [(c + v) / 2 for c, v in zip(cnn_probs, vit_probs)]\n",
        "\n",
        "    if cnn_predicted_class_idx == vit_predicted_class_idx and cnn_predicted_class_idx != -1:\n",
        "        final_idx = cnn_predicted_class_idx\n",
        "    elif cnn_predicted_class_idx == -1 and vit_predicted_class_idx != -1:\n",
        "        final_idx = vit_predicted_class_idx\n",
        "    elif vit_predicted_class_idx == -1 and cnn_predicted_class_idx != -1:\n",
        "        final_idx = cnn_predicted_class_idx\n",
        "    elif cnn_predicted_class_idx != -1 and vit_predicted_class_idx != -1:\n",
        "        final_idx = int(torch.tensor(final_probs).argmax().item())\n",
        "    else:\n",
        "        final_idx = -1\n",
        "\n",
        "    final_label = labels.get(final_idx, 'Unknown')\n",
        "\n",
        "    # --- 4. Display the result on the frame ---\n",
        "    font = cv2.FONT_HERSHEY_SIMPLEX\n",
        "    cv2.putText(frame, f'Prediction: {final_label}', (10, 30), font, 1, (0, 255, 0), 2, cv2.LINE_AA)\n",
        "    cv2.imshow('Webcam Live Inference (CUDA)', frame)\n",
        "\n",
        "    # Exit loop if 'q' is pressed\n",
        "    if cv2.waitKey(1) & 0xFF == ord('q'):\n",
        "        break\n",
        "\n",
        "# --- 5. Cleanup ---\n",
        "cap.release()\n",
        "cv2.destroyAllWindows()\n"
      ]
    }
  ],
  "metadata": {
    "colab": {
      "provenance": []
    },
    "kernelspec": {
      "display_name": "naic",
      "language": "python",
      "name": "python3"
    },
    "language_info": {
      "codemirror_mode": {
        "name": "ipython",
        "version": 3
      },
      "file_extension": ".py",
      "mimetype": "text/x-python",
      "name": "python",
      "nbconvert_exporter": "python",
      "pygments_lexer": "ipython3",
      "version": "3.11.9"
    }
  },
  "nbformat": 4,
  "nbformat_minor": 0
}
